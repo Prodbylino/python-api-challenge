{
 "cells": [
  {
   "cell_type": "markdown",
   "metadata": {},
   "source": [
    "# WeatherPy\n",
    "----\n",
    "\n",
    "#### Note\n",
    "* Instructions have been included for each segment. You do not have to follow them exactly, but they are included to help you think through the steps."
   ]
  },
  {
   "cell_type": "code",
   "execution_count": 1,
   "metadata": {
    "scrolled": true
   },
   "outputs": [],
   "source": [
    "# Dependencies and Setup\n",
    "import matplotlib.pyplot as plt\n",
    "import pandas as pd\n",
    "import numpy as np\n",
    "import requests\n",
    "import time\n",
    "from pprint import pprint\n",
    "from scipy.stats import linregress\n",
    "import gmaps\n",
    "# Import API key\n",
    "from api_keys import weather_api_key\n",
    "\n",
    "# Import citipy to determine city based on latitude and longitude\n",
    "from citipy import citipy"
   ]
  },
  {
   "cell_type": "code",
   "execution_count": null,
   "metadata": {},
   "outputs": [],
   "source": []
  },
  {
   "cell_type": "markdown",
   "metadata": {},
   "source": [
    "## Generate Cities List"
   ]
  },
  {
   "cell_type": "code",
   "execution_count": 2,
   "metadata": {
    "scrolled": true
   },
   "outputs": [
    {
     "name": "stdout",
     "output_type": "stream",
     "text": [
      "615\n"
     ]
    }
   ],
   "source": [
    "#create a list which will contain 500 cities around equator \n",
    "\n",
    "cities_coodinator = []\n",
    "cities_name = []\n",
    "equator_lat_range = (-90, 90)\n",
    "equator_lng_range = (-180, 180)\n",
    "equator_lat_range[0]\n",
    "#random 500 cities around equator\n",
    "cities_lat = np.random.uniform(-90,90,1500)\n",
    "cities_lng = np.random.uniform(-180,180,1500)\n",
    "cities_coodinator = zip(cities_lat,cities_lng)\n",
    "\n",
    "for coodinator in cities_coodinator:\n",
    "    city = citipy.nearest_city(coodinator[0], coodinator[1]).city_name\n",
    "    if city not in cities_name:\n",
    "        cities_name.append(city)\n",
    "#     print(city)\n",
    "# print(cities_name)\n",
    "print(len(cities_name))\n"
   ]
  },
  {
   "cell_type": "code",
   "execution_count": 3,
   "metadata": {},
   "outputs": [
    {
     "name": "stdout",
     "output_type": "stream",
     "text": [
      "ushuaia\n"
     ]
    }
   ],
   "source": [
    "print(city)"
   ]
  },
  {
   "cell_type": "markdown",
   "metadata": {},
   "source": [
    "### Perform API Calls\n",
    "* Perform a weather check on each city using a series of successive API calls.\n",
    "* Include a print log of each city as it'sbeing processed (with the city number and city name).\n"
   ]
  },
  {
   "cell_type": "code",
   "execution_count": 4,
   "metadata": {},
   "outputs": [],
   "source": [
    "# #Create a data frame\n",
    "\n",
    "# weather_dict = {\n",
    "    \n",
    "#     \"City\": cities_name,\n",
    "#     \"Lat\" : '',\n",
    "#     \"Lng\" : '',\n",
    "#     \"Max Temp\" : '',\n",
    "#     \"Humidity\": '',\n",
    "#     \"Cloudiness\": '',\n",
    "#     \"Wind Speed\": '',\n",
    "#     \"Country\": '',\n",
    "#     \"Date\": ''\n",
    "\n",
    "# }\n",
    "\n",
    "# #Convert into DataFrame\n",
    "# weather_df = pd.DataFrame(weather_dict)\n",
    "\n",
    "# weather_df.head()\n",
    "# # weather_df.shape"
   ]
  },
  {
   "cell_type": "code",
   "execution_count": 5,
   "metadata": {},
   "outputs": [
    {
     "name": "stdout",
     "output_type": "stream",
     "text": [
      "{'base': 'stations',\n",
      " 'clouds': {'all': 40},\n",
      " 'cod': 200,\n",
      " 'coord': {'lat': -54.8, 'lon': -68.3},\n",
      " 'dt': 1631573450,\n",
      " 'id': 3833367,\n",
      " 'main': {'feels_like': 31.28,\n",
      "          'humidity': 65,\n",
      "          'pressure': 985,\n",
      "          'temp': 42.46,\n",
      "          'temp_max': 42.46,\n",
      "          'temp_min': 42.46},\n",
      " 'name': 'Ushuaia',\n",
      " 'sys': {'country': 'AR',\n",
      "         'id': 8303,\n",
      "         'sunrise': 1631529847,\n",
      "         'sunset': 1631571254,\n",
      "         'type': 1},\n",
      " 'timezone': -10800,\n",
      " 'visibility': 10000,\n",
      " 'weather': [{'description': 'scattered clouds',\n",
      "              'icon': '03n',\n",
      "              'id': 802,\n",
      "              'main': 'Clouds'}],\n",
      " 'wind': {'deg': 220, 'gust': 50.64, 'speed': 33.38}}\n"
     ]
    }
   ],
   "source": [
    "# Save config information\n",
    "url = \"http://api.openweathermap.org/data/2.5/weather?\"\n",
    "units = \"imperial\"\n",
    "\n",
    "# Build query URL\n",
    "query_url = f\"{url}appid={weather_api_key}&units={units}&q=\"\n",
    "response  = requests.get(query_url+city).json()\n",
    "pprint(response)"
   ]
  },
  {
   "cell_type": "code",
   "execution_count": 6,
   "metadata": {},
   "outputs": [
    {
     "name": "stdout",
     "output_type": "stream",
     "text": [
      "Beginning Data Retrieval \n",
      "-------------------------------\n",
      "Processing Record 1 of Set 1 | namibe\n",
      "Processing Record 2 of Set 2 | carnarvon\n",
      "Processing Record 3 of Set 3 | compiegne\n",
      "Processing Record 4 of Set 4 | butaritari\n",
      "Processing Record 5 of Set 5 | punta arenas\n",
      "Processing Record 6 of Set 6 | aguascalientes\n",
      "Processing Record 7 of Set 7 | howard springs\n",
      "Processing Record 8 of Set 8 | dickinson\n",
      "City not found. Skipping...\n",
      "Processing Record 9 of Set 9 | rikitea\n",
      "Processing Record 10 of Set 10 | mataura\n",
      "Processing Record 11 of Set 11 | hermanus\n",
      "Processing Record 12 of Set 12 | berlevag\n",
      "Processing Record 13 of Set 13 | hilo\n",
      "Processing Record 14 of Set 14 | te anau\n",
      "Processing Record 15 of Set 15 | asfi\n",
      "Processing Record 16 of Set 16 | constitucion\n",
      "Processing Record 17 of Set 17 | flinders\n",
      "Processing Record 18 of Set 18 | penukonda\n",
      "Processing Record 19 of Set 19 | iqaluit\n",
      "Processing Record 20 of Set 20 | paita\n",
      "Processing Record 21 of Set 21 | noumea\n",
      "Processing Record 22 of Set 22 | dikson\n",
      "Processing Record 23 of Set 23 | college\n",
      "Processing Record 24 of Set 24 | lufilufi\n",
      "Processing Record 25 of Set 25 | puerto ayora\n",
      "Processing Record 26 of Set 26 | grand gaube\n",
      "Processing Record 27 of Set 27 | pierre\n",
      "Processing Record 28 of Set 28 | albany\n",
      "Processing Record 29 of Set 29 | beringovskiy\n",
      "Processing Record 30 of Set 30 | jamestown\n",
      "Processing Record 31 of Set 31 | pulandian\n",
      "Processing Record 32 of Set 32 | arraial do cabo\n",
      "Processing Record 33 of Set 33 | cabo san lucas\n",
      "Processing Record 34 of Set 34 | lebu\n",
      "Processing Record 35 of Set 35 | bambanglipuro\n",
      "Processing Record 36 of Set 36 | kibala\n",
      "City not found. Skipping...\n",
      "Processing Record 37 of Set 37 | ushuaia\n",
      "Processing Record 38 of Set 38 | petauke\n",
      "Processing Record 39 of Set 39 | chokurdakh\n",
      "Processing Record 40 of Set 40 | karratha\n",
      "Processing Record 41 of Set 41 | atuona\n",
      "City not found. Skipping...\n",
      "Processing Record 42 of Set 42 | clyde river\n",
      "Processing Record 43 of Set 43 | samarai\n",
      "Processing Record 44 of Set 44 | upernavik\n",
      "Processing Record 45 of Set 45 | tiksi\n",
      "City not found. Skipping...\n",
      "Processing Record 46 of Set 46 | georgetown\n",
      "Processing Record 47 of Set 47 | hearst\n",
      "Processing Record 48 of Set 48 | conceicao do araguaia\n",
      "Processing Record 49 of Set 49 | balikpapan\n",
      "Processing Record 50 of Set 50 | kapaa\n",
      "Processing Record 51 of Set 51 | noyabrsk\n",
      "Processing Record 52 of Set 52 | inongo\n",
      "Processing Record 53 of Set 53 | saint anthony\n",
      "Processing Record 54 of Set 54 | rocha\n",
      "Processing Record 55 of Set 55 | cidreira\n",
      "City not found. Skipping...\n",
      "Processing Record 56 of Set 56 | souillac\n",
      "Processing Record 57 of Set 57 | bontang\n",
      "Processing Record 58 of Set 58 | maniitsoq\n",
      "City not found. Skipping...\n",
      "City not found. Skipping...\n",
      "Processing Record 59 of Set 59 | najran\n",
      "Processing Record 60 of Set 60 | cherskiy\n",
      "City not found. Skipping...\n",
      "Processing Record 61 of Set 61 | mopipi\n",
      "Processing Record 62 of Set 62 | usinsk\n",
      "Processing Record 63 of Set 63 | busselton\n",
      "Processing Record 64 of Set 64 | sept-iles\n",
      "Processing Record 65 of Set 65 | bandarbeyla\n",
      "Processing Record 66 of Set 66 | coihaique\n",
      "Processing Record 67 of Set 67 | touros\n",
      "Processing Record 68 of Set 68 | victoria\n",
      "Processing Record 69 of Set 69 | havre-saint-pierre\n",
      "Processing Record 70 of Set 70 | mahebourg\n",
      "Processing Record 71 of Set 71 | barrow\n",
      "Processing Record 72 of Set 72 | saint george\n",
      "Processing Record 73 of Set 73 | nybro\n",
      "Processing Record 74 of Set 74 | caraquet\n",
      "Processing Record 75 of Set 75 | ankang\n",
      "City not found. Skipping...\n",
      "Processing Record 76 of Set 76 | mataram\n",
      "Processing Record 77 of Set 77 | white oak\n",
      "Processing Record 78 of Set 78 | shache\n",
      "Processing Record 79 of Set 79 | moose factory\n",
      "Processing Record 80 of Set 80 | dingle\n",
      "Processing Record 81 of Set 81 | erzin\n",
      "Processing Record 82 of Set 82 | cape town\n",
      "Processing Record 83 of Set 83 | emerald\n",
      "Processing Record 84 of Set 84 | pangoa\n",
      "Processing Record 85 of Set 85 | bluff\n",
      "Processing Record 86 of Set 86 | nikolskoye\n",
      "Processing Record 87 of Set 87 | egvekinot\n",
      "Processing Record 88 of Set 88 | fare\n",
      "Processing Record 89 of Set 89 | saldanha\n",
      "City not found. Skipping...\n",
      "City not found. Skipping...\n",
      "Processing Record 90 of Set 90 | oistins\n",
      "Processing Record 91 of Set 91 | east london\n",
      "Processing Record 92 of Set 92 | isiro\n",
      "Processing Record 93 of Set 93 | dunedin\n",
      "Processing Record 94 of Set 94 | avarua\n",
      "Processing Record 95 of Set 95 | varkkallai\n",
      "Processing Record 96 of Set 96 | port alfred\n",
      "Processing Record 97 of Set 97 | hobart\n",
      "Processing Record 98 of Set 98 | qaanaaq\n",
      "Processing Record 99 of Set 99 | narsaq\n",
      "Processing Record 100 of Set 100 | khatanga\n",
      "Processing Record 101 of Set 101 | haverfordwest\n",
      "Processing Record 102 of Set 102 | vaini\n",
      "Processing Record 103 of Set 103 | ponta do sol\n",
      "Processing Record 104 of Set 104 | meulaboh\n",
      "City not found. Skipping...\n",
      "Processing Record 105 of Set 105 | gayeri\n",
      "Processing Record 106 of Set 106 | fortuna\n",
      "Processing Record 107 of Set 107 | kondoa\n",
      "City not found. Skipping...\n",
      "Processing Record 108 of Set 108 | verkhnyaya inta\n",
      "Processing Record 109 of Set 109 | georgiyevka\n",
      "Processing Record 110 of Set 110 | pozoblanco\n",
      "Processing Record 111 of Set 111 | beyneu\n",
      "Processing Record 112 of Set 112 | mehamn\n",
      "Processing Record 113 of Set 113 | longyearbyen\n",
      "Processing Record 114 of Set 114 | wuchi\n",
      "Processing Record 115 of Set 115 | severo-kurilsk\n",
      "Processing Record 116 of Set 116 | bodden town\n",
      "Processing Record 117 of Set 117 | codrington\n",
      "Processing Record 118 of Set 118 | bredasdorp\n",
      "Processing Record 119 of Set 119 | nanortalik\n",
      "Processing Record 120 of Set 120 | bira\n",
      "Processing Record 121 of Set 121 | kaitangata\n",
      "Processing Record 122 of Set 122 | odienne\n",
      "Processing Record 123 of Set 123 | hofn\n",
      "Processing Record 124 of Set 124 | pisco\n",
      "Processing Record 125 of Set 125 | vardo\n",
      "Processing Record 126 of Set 126 | broken hill\n",
      "Processing Record 127 of Set 127 | erenhot\n",
      "Processing Record 128 of Set 128 | provideniya\n",
      "Processing Record 129 of Set 129 | teguldet\n",
      "Processing Record 130 of Set 130 | adrar\n",
      "Processing Record 131 of Set 131 | haines junction\n",
      "Processing Record 132 of Set 132 | lata\n",
      "City not found. Skipping...\n",
      "Processing Record 133 of Set 133 | holbeach\n",
      "Processing Record 134 of Set 134 | srednekolymsk\n",
      "Processing Record 135 of Set 135 | jiangyou\n",
      "Processing Record 136 of Set 136 | katangli\n",
      "City not found. Skipping...\n",
      "Processing Record 137 of Set 137 | jacareacanga\n",
      "Processing Record 138 of Set 138 | aklavik\n",
      "Processing Record 139 of Set 139 | klaksvik\n",
      "Processing Record 140 of Set 140 | shenzhen\n",
      "Processing Record 141 of Set 141 | borzya\n",
      "Processing Record 142 of Set 142 | pinawa\n",
      "Processing Record 143 of Set 143 | taltal\n",
      "City not found. Skipping...\n",
      "Processing Record 144 of Set 144 | feijo\n",
      "Processing Record 145 of Set 145 | kahului\n",
      "Processing Record 146 of Set 146 | katsuura\n",
      "Processing Record 147 of Set 147 | lompoc\n",
      "Processing Record 148 of Set 148 | xai-xai\n",
      "Processing Record 149 of Set 149 | matara\n",
      "Processing Record 150 of Set 150 | hasaki\n",
      "Processing Record 151 of Set 151 | new norfolk\n",
      "Processing Record 152 of Set 152 | saint-philippe\n",
      "Processing Record 153 of Set 153 | palmer\n",
      "Processing Record 154 of Set 154 | tuktoyaktuk\n",
      "Processing Record 155 of Set 155 | qandala\n",
      "Processing Record 156 of Set 156 | gao\n",
      "Processing Record 157 of Set 157 | kruisfontein\n",
      "Processing Record 158 of Set 158 | ilulissat\n",
      "City not found. Skipping...\n",
      "Processing Record 159 of Set 159 | diego de almagro\n",
      "Processing Record 160 of Set 160 | yeppoon\n",
      "Processing Record 161 of Set 161 | smirnykh\n",
      "Processing Record 162 of Set 162 | vao\n",
      "Processing Record 163 of Set 163 | inhambane\n",
      "Processing Record 164 of Set 164 | riyadh\n",
      "Processing Record 165 of Set 165 | tadine\n",
      "Processing Record 166 of Set 166 | kishtwar\n",
      "Processing Record 167 of Set 167 | saskylakh\n",
      "Processing Record 168 of Set 168 | virginia beach\n",
      "Processing Record 169 of Set 169 | havelock\n",
      "Processing Record 170 of Set 170 | remedios\n",
      "Processing Record 171 of Set 171 | honiara\n",
      "Processing Record 172 of Set 172 | kavieng\n",
      "Processing Record 173 of Set 173 | westport\n",
      "Processing Record 174 of Set 174 | chuy\n",
      "Processing Record 175 of Set 175 | yerbogachen\n",
      "Processing Record 176 of Set 176 | lochem\n",
      "Processing Record 177 of Set 177 | vostok\n",
      "Processing Record 178 of Set 178 | pevek\n",
      "Processing Record 179 of Set 179 | hauterive\n"
     ]
    },
    {
     "name": "stdout",
     "output_type": "stream",
     "text": [
      "Processing Record 180 of Set 180 | yellowknife\n",
      "Processing Record 181 of Set 181 | beloha\n",
      "Processing Record 182 of Set 182 | darnah\n",
      "Processing Record 183 of Set 183 | thompson\n",
      "City not found. Skipping...\n",
      "Processing Record 184 of Set 184 | nishihara\n",
      "Processing Record 185 of Set 185 | jiazi\n",
      "Processing Record 186 of Set 186 | mareeba\n",
      "Processing Record 187 of Set 187 | witu\n",
      "City not found. Skipping...\n",
      "Processing Record 188 of Set 188 | alofi\n",
      "Processing Record 189 of Set 189 | kuytun\n",
      "Processing Record 190 of Set 190 | sao filipe\n",
      "Processing Record 191 of Set 191 | alice springs\n",
      "Processing Record 192 of Set 192 | besuki\n",
      "Processing Record 193 of Set 193 | deputatskiy\n",
      "Processing Record 194 of Set 194 | okhotsk\n",
      "Processing Record 195 of Set 195 | port macquarie\n",
      "Processing Record 196 of Set 196 | spitsevka\n",
      "Processing Record 197 of Set 197 | mount isa\n",
      "Processing Record 198 of Set 198 | hit\n",
      "Processing Record 199 of Set 199 | geraldton\n",
      "Processing Record 200 of Set 200 | nioki\n",
      "Processing Record 201 of Set 201 | hithadhoo\n",
      "Processing Record 202 of Set 202 | kaeo\n",
      "Processing Record 203 of Set 203 | luderitz\n",
      "Processing Record 204 of Set 204 | ribeira grande\n",
      "Processing Record 205 of Set 205 | seymchan\n",
      "Processing Record 206 of Set 206 | port hardy\n",
      "Processing Record 207 of Set 207 | cockburn town\n",
      "Processing Record 208 of Set 208 | kimbe\n",
      "Processing Record 209 of Set 209 | santa fe\n",
      "Processing Record 210 of Set 210 | french harbor\n",
      "Processing Record 211 of Set 211 | micheweni\n",
      "Processing Record 212 of Set 212 | castro\n",
      "Processing Record 213 of Set 213 | bayir\n",
      "Processing Record 214 of Set 214 | potosi\n",
      "City not found. Skipping...\n",
      "Processing Record 215 of Set 215 | krasnokamensk\n",
      "City not found. Skipping...\n",
      "Processing Record 216 of Set 216 | grenaa\n",
      "City not found. Skipping...\n",
      "Processing Record 217 of Set 217 | kharp\n",
      "Processing Record 218 of Set 218 | samoylovka\n",
      "Processing Record 219 of Set 219 | arlit\n",
      "Processing Record 220 of Set 220 | dakoro\n",
      "Processing Record 221 of Set 221 | korla\n",
      "Processing Record 222 of Set 222 | torbay\n",
      "Processing Record 223 of Set 223 | norman wells\n",
      "Processing Record 224 of Set 224 | zhangjiakou\n",
      "City not found. Skipping...\n",
      "Processing Record 225 of Set 225 | chute-aux-outardes\n",
      "Processing Record 226 of Set 226 | svolvaer\n",
      "City not found. Skipping...\n",
      "Processing Record 227 of Set 227 | tautira\n",
      "Processing Record 228 of Set 228 | sandwick\n",
      "Processing Record 229 of Set 229 | lusambo\n",
      "Processing Record 230 of Set 230 | yambio\n",
      "Processing Record 231 of Set 231 | northam\n",
      "Processing Record 232 of Set 232 | beroun\n",
      "Processing Record 233 of Set 233 | kamenka\n",
      "Processing Record 234 of Set 234 | skwierzyna\n",
      "Processing Record 235 of Set 235 | talnakh\n",
      "Processing Record 236 of Set 236 | acapulco\n",
      "Processing Record 237 of Set 237 | khandagayty\n",
      "Processing Record 238 of Set 238 | vila velha\n",
      "City not found. Skipping...\n",
      "Processing Record 239 of Set 239 | kindu\n",
      "Processing Record 240 of Set 240 | solnechnyy\n",
      "Processing Record 241 of Set 241 | nyurba\n",
      "Processing Record 242 of Set 242 | eenhana\n",
      "Processing Record 243 of Set 243 | bambous virieux\n",
      "Processing Record 244 of Set 244 | lobez\n",
      "Processing Record 245 of Set 245 | yerofey pavlovich\n",
      "Processing Record 246 of Set 246 | kapit\n",
      "Processing Record 247 of Set 247 | labuhan\n",
      "City not found. Skipping...\n",
      "Processing Record 248 of Set 248 | ostrovnoy\n",
      "Processing Record 249 of Set 249 | amuntai\n",
      "Processing Record 250 of Set 250 | ayan\n",
      "Processing Record 251 of Set 251 | tuatapere\n",
      "Processing Record 252 of Set 252 | chifeng\n",
      "Processing Record 253 of Set 253 | vurgun\n",
      "Processing Record 254 of Set 254 | dakar\n",
      "Processing Record 255 of Set 255 | yar-sale\n",
      "Processing Record 256 of Set 256 | prince rupert\n",
      "Processing Record 257 of Set 257 | tasiilaq\n",
      "Processing Record 258 of Set 258 | bethel\n",
      "Processing Record 259 of Set 259 | nouakchott\n",
      "Processing Record 260 of Set 260 | half moon bay\n",
      "Processing Record 261 of Set 261 | leninskoye\n",
      "Processing Record 262 of Set 262 | mount gambier\n",
      "Processing Record 263 of Set 263 | bara\n",
      "Processing Record 264 of Set 264 | dinguiraye\n",
      "Processing Record 265 of Set 265 | jalu\n",
      "Processing Record 266 of Set 266 | arauca\n",
      "Processing Record 267 of Set 267 | puerto carreno\n",
      "Processing Record 268 of Set 268 | nirgua\n",
      "Processing Record 269 of Set 269 | san vicente\n",
      "City not found. Skipping...\n",
      "Processing Record 270 of Set 270 | leningradskiy\n",
      "Processing Record 271 of Set 271 | monroe\n",
      "Processing Record 272 of Set 272 | cayenne\n",
      "Processing Record 273 of Set 273 | faya\n",
      "Processing Record 274 of Set 274 | nola\n",
      "Processing Record 275 of Set 275 | piacabucu\n",
      "Processing Record 276 of Set 276 | pocatello\n",
      "Processing Record 277 of Set 277 | ewa beach\n",
      "Processing Record 278 of Set 278 | merauke\n",
      "Processing Record 279 of Set 279 | kodiak\n",
      "Processing Record 280 of Set 280 | sao joao da barra\n",
      "Processing Record 281 of Set 281 | coquimbo\n",
      "Processing Record 282 of Set 282 | gitarama\n",
      "Processing Record 283 of Set 283 | ciudad bolivar\n",
      "Processing Record 284 of Set 284 | pacific grove\n",
      "Processing Record 285 of Set 285 | charters towers\n",
      "Processing Record 286 of Set 286 | pahrump\n",
      "Processing Record 287 of Set 287 | san patricio\n",
      "Processing Record 288 of Set 288 | nagato\n",
      "Processing Record 289 of Set 289 | tual\n",
      "Processing Record 290 of Set 290 | fershampenuaz\n",
      "Processing Record 291 of Set 291 | pavullo nel frignano\n",
      "Processing Record 292 of Set 292 | urengoy\n",
      "Processing Record 293 of Set 293 | sao felix do xingu\n",
      "Processing Record 294 of Set 294 | show low\n",
      "Processing Record 295 of Set 295 | huarmey\n",
      "Processing Record 296 of Set 296 | lagoa\n",
      "Processing Record 297 of Set 297 | gerash\n",
      "Processing Record 298 of Set 298 | santa rosa\n",
      "Processing Record 299 of Set 299 | sao gabriel da cachoeira\n",
      "Processing Record 300 of Set 300 | airai\n",
      "Processing Record 301 of Set 301 | sur\n",
      "Processing Record 302 of Set 302 | komsomolskiy\n",
      "Processing Record 303 of Set 303 | tezu\n",
      "Processing Record 304 of Set 304 | bubaque\n",
      "Processing Record 305 of Set 305 | turukhansk\n",
      "Processing Record 306 of Set 306 | humaita\n",
      "Processing Record 307 of Set 307 | cuauhtemoc\n",
      "Processing Record 308 of Set 308 | xunchang\n",
      "Processing Record 309 of Set 309 | kargat\n",
      "City not found. Skipping...\n",
      "Processing Record 310 of Set 310 | caravelas\n",
      "Processing Record 311 of Set 311 | farafangana\n",
      "Processing Record 312 of Set 312 | kosh-agach\n",
      "Processing Record 313 of Set 313 | mayumba\n",
      "Processing Record 314 of Set 314 | banjar\n",
      "Processing Record 315 of Set 315 | denpasar\n",
      "Processing Record 316 of Set 316 | pokaran\n",
      "Processing Record 317 of Set 317 | tabou\n",
      "Processing Record 318 of Set 318 | port elizabeth\n",
      "Processing Record 319 of Set 319 | vidalia\n",
      "Processing Record 320 of Set 320 | steinbach\n",
      "Processing Record 321 of Set 321 | natitingou\n",
      "Processing Record 322 of Set 322 | bereda\n",
      "Processing Record 323 of Set 323 | hami\n",
      "Processing Record 324 of Set 324 | beaumont\n",
      "Processing Record 325 of Set 325 | kilindoni\n",
      "City not found. Skipping...\n",
      "Processing Record 326 of Set 326 | general higinio morinigo\n",
      "Processing Record 327 of Set 327 | iiyama\n",
      "Processing Record 328 of Set 328 | baruun-urt\n",
      "Processing Record 329 of Set 329 | soe\n",
      "Processing Record 330 of Set 330 | uray\n",
      "Processing Record 331 of Set 331 | mar del plata\n",
      "Processing Record 332 of Set 332 | fayetteville\n",
      "Processing Record 333 of Set 333 | roseburg\n",
      "Processing Record 334 of Set 334 | bintulu\n",
      "Processing Record 335 of Set 335 | poum\n",
      "Processing Record 336 of Set 336 | farap\n",
      "Processing Record 337 of Set 337 | gat\n",
      "Processing Record 338 of Set 338 | msanga\n",
      "Processing Record 339 of Set 339 | ambilobe\n",
      "Processing Record 340 of Set 340 | karimganj\n",
      "Processing Record 341 of Set 341 | ucluelet\n",
      "Processing Record 342 of Set 342 | bose\n",
      "City not found. Skipping...\n",
      "Processing Record 343 of Set 343 | sukumo\n",
      "City not found. Skipping...\n",
      "Processing Record 344 of Set 344 | harindanga\n",
      "Processing Record 345 of Set 345 | buala\n",
      "Processing Record 346 of Set 346 | komsomolskoye\n",
      "Processing Record 347 of Set 347 | henties bay\n",
      "City not found. Skipping...\n",
      "Processing Record 348 of Set 348 | matamoros\n",
      "Processing Record 349 of Set 349 | kushima\n",
      "Processing Record 350 of Set 350 | salalah\n",
      "Processing Record 351 of Set 351 | tambun\n",
      "Processing Record 352 of Set 352 | talisay\n",
      "Processing Record 353 of Set 353 | dwarka\n",
      "Processing Record 354 of Set 354 | caborca\n",
      "Processing Record 355 of Set 355 | baghdad\n"
     ]
    },
    {
     "name": "stdout",
     "output_type": "stream",
     "text": [
      "Processing Record 356 of Set 356 | yulara\n",
      "Processing Record 357 of Set 357 | sitka\n",
      "Processing Record 358 of Set 358 | porto murtinho\n",
      "Processing Record 359 of Set 359 | gobabis\n",
      "Processing Record 360 of Set 360 | hobyo\n",
      "Processing Record 361 of Set 361 | bengkulu\n",
      "Processing Record 362 of Set 362 | lakes entrance\n",
      "Processing Record 363 of Set 363 | saint-pierre\n",
      "Processing Record 364 of Set 364 | buin\n",
      "Processing Record 365 of Set 365 | hamilton\n",
      "Processing Record 366 of Set 366 | martinsicuro\n",
      "Processing Record 367 of Set 367 | los llanos de aridane\n",
      "Processing Record 368 of Set 368 | quatre cocos\n",
      "Processing Record 369 of Set 369 | askino\n",
      "Processing Record 370 of Set 370 | kitgum\n",
      "Processing Record 371 of Set 371 | dagua\n",
      "Processing Record 372 of Set 372 | kyra\n",
      "Processing Record 373 of Set 373 | quesnel\n",
      "Processing Record 374 of Set 374 | rodos\n",
      "Processing Record 375 of Set 375 | henderson\n",
      "Processing Record 376 of Set 376 | guerrero negro\n",
      "Processing Record 377 of Set 377 | kottagudem\n",
      "Processing Record 378 of Set 378 | shaoguan\n",
      "Processing Record 379 of Set 379 | blackwater\n",
      "Processing Record 380 of Set 380 | margate\n",
      "Processing Record 381 of Set 381 | kolosovka\n",
      "Processing Record 382 of Set 382 | batagay-alyta\n",
      "Processing Record 383 of Set 383 | ussel\n",
      "Processing Record 384 of Set 384 | imeni poliny osipenko\n",
      "Processing Record 385 of Set 385 | inirida\n",
      "Processing Record 386 of Set 386 | almaznyy\n",
      "Processing Record 387 of Set 387 | sioux lookout\n",
      "Processing Record 388 of Set 388 | necochea\n",
      "Processing Record 389 of Set 389 | sisimiut\n",
      "Processing Record 390 of Set 390 | boyabat\n",
      "Processing Record 391 of Set 391 | port blair\n",
      "Processing Record 392 of Set 392 | morant bay\n",
      "Processing Record 393 of Set 393 | esperance\n",
      "Processing Record 394 of Set 394 | stornoway\n",
      "Processing Record 395 of Set 395 | lahij\n",
      "Processing Record 396 of Set 396 | cajuru\n",
      "Processing Record 397 of Set 397 | blitar\n",
      "Processing Record 398 of Set 398 | traiguen\n",
      "Processing Record 399 of Set 399 | cuiluan\n",
      "Processing Record 400 of Set 400 | paka\n",
      "Processing Record 401 of Set 401 | tocopilla\n",
      "Processing Record 402 of Set 402 | mahon\n",
      "City not found. Skipping...\n",
      "Processing Record 403 of Set 403 | rorvik\n",
      "Processing Record 404 of Set 404 | novo aripuana\n",
      "Processing Record 405 of Set 405 | ponta delgada\n",
      "Processing Record 406 of Set 406 | faanui\n",
      "Processing Record 407 of Set 407 | calvinia\n",
      "Processing Record 408 of Set 408 | camacha\n",
      "Processing Record 409 of Set 409 | thabazimbi\n",
      "Processing Record 410 of Set 410 | lichuan\n",
      "Processing Record 411 of Set 411 | petropavlovsk-kamchatskiy\n",
      "Processing Record 412 of Set 412 | fairbanks\n",
      "Processing Record 413 of Set 413 | kavaratti\n",
      "Processing Record 414 of Set 414 | lovozero\n",
      "Processing Record 415 of Set 415 | naze\n",
      "Processing Record 416 of Set 416 | broome\n",
      "Processing Record 417 of Set 417 | doka\n",
      "Processing Record 418 of Set 418 | kroya\n",
      "Processing Record 419 of Set 419 | tsabong\n",
      "Processing Record 420 of Set 420 | pemangkat\n",
      "Processing Record 421 of Set 421 | itaituba\n",
      "Processing Record 422 of Set 422 | mecca\n",
      "Processing Record 423 of Set 423 | sinegorskiy\n",
      "Processing Record 424 of Set 424 | launceston\n",
      "Processing Record 425 of Set 425 | guarapari\n",
      "Processing Record 426 of Set 426 | riohacha\n",
      "Processing Record 427 of Set 427 | colares\n",
      "Processing Record 428 of Set 428 | muros\n",
      "Processing Record 429 of Set 429 | sicamous\n",
      "Processing Record 430 of Set 430 | osakarovka\n",
      "City not found. Skipping...\n",
      "Processing Record 431 of Set 431 | san cristobal\n",
      "Processing Record 432 of Set 432 | portland\n",
      "Processing Record 433 of Set 433 | nokaneng\n",
      "Processing Record 434 of Set 434 | rawson\n",
      "Processing Record 435 of Set 435 | vestmanna\n",
      "Processing Record 436 of Set 436 | isangel\n",
      "Processing Record 437 of Set 437 | urusha\n",
      "Processing Record 438 of Set 438 | jupiter\n",
      "Processing Record 439 of Set 439 | balatonfured\n",
      "Processing Record 440 of Set 440 | boyolangu\n",
      "Processing Record 441 of Set 441 | rodbyhavn\n",
      "Processing Record 442 of Set 442 | omsukchan\n",
      "Processing Record 443 of Set 443 | yenagoa\n",
      "Processing Record 444 of Set 444 | richards bay\n",
      "Processing Record 445 of Set 445 | warangal\n",
      "Processing Record 446 of Set 446 | melbu\n",
      "City not found. Skipping...\n",
      "Processing Record 447 of Set 447 | itarema\n",
      "City not found. Skipping...\n",
      "Processing Record 448 of Set 448 | aripuana\n",
      "Processing Record 449 of Set 449 | disna\n",
      "Processing Record 450 of Set 450 | la brea\n",
      "Processing Record 451 of Set 451 | dunda\n",
      "Processing Record 452 of Set 452 | san quintin\n",
      "Processing Record 453 of Set 453 | santa cruz\n",
      "Processing Record 454 of Set 454 | nichinan\n",
      "Processing Record 455 of Set 455 | san policarpo\n",
      "Processing Record 456 of Set 456 | minot\n",
      "Processing Record 457 of Set 457 | khuzdar\n",
      "Processing Record 458 of Set 458 | manggar\n",
      "Processing Record 459 of Set 459 | sapa\n",
      "Processing Record 460 of Set 460 | svetlaya\n",
      "Processing Record 461 of Set 461 | coos bay\n",
      "Processing Record 462 of Set 462 | maxixe\n",
      "Processing Record 463 of Set 463 | oxford\n",
      "Processing Record 464 of Set 464 | nanakuli\n",
      "Processing Record 465 of Set 465 | bud\n",
      "Processing Record 466 of Set 466 | edd\n",
      "Processing Record 467 of Set 467 | nuuk\n",
      "Processing Record 468 of Set 468 | anadyr\n",
      "Processing Record 469 of Set 469 | mana\n",
      "Processing Record 470 of Set 470 | tairua\n",
      "Processing Record 471 of Set 471 | swan hill\n",
      "Processing Record 472 of Set 472 | kutum\n",
      "Processing Record 473 of Set 473 | porto-vecchio\n",
      "Processing Record 474 of Set 474 | sistranda\n",
      "Processing Record 475 of Set 475 | camargo\n",
      "Processing Record 476 of Set 476 | fukue\n",
      "Processing Record 477 of Set 477 | kita\n",
      "Processing Record 478 of Set 478 | pochutla\n",
      "Processing Record 479 of Set 479 | kungurtug\n",
      "Processing Record 480 of Set 480 | camana\n",
      "Processing Record 481 of Set 481 | akyab\n",
      "Processing Record 482 of Set 482 | sorland\n",
      "Processing Record 483 of Set 483 | ranong\n",
      "Processing Record 484 of Set 484 | svetlogorsk\n",
      "Processing Record 485 of Set 485 | asau\n",
      "Processing Record 486 of Set 486 | narok\n",
      "Processing Record 487 of Set 487 | kawalu\n",
      "Processing Record 488 of Set 488 | kalmunai\n",
      "Processing Record 489 of Set 489 | gemena\n",
      "Processing Record 490 of Set 490 | ahipara\n",
      "Processing Record 491 of Set 491 | comodoro rivadavia\n",
      "Processing Record 492 of Set 492 | the valley\n",
      "Processing Record 493 of Set 493 | namtsy\n",
      "Processing Record 494 of Set 494 | mayo\n",
      "Processing Record 495 of Set 495 | magalia\n",
      "Processing Record 496 of Set 496 | yima\n",
      "Processing Record 497 of Set 497 | praia da vitoria\n",
      "Processing Record 498 of Set 498 | blackfoot\n",
      "Processing Record 499 of Set 499 | genhe\n",
      "Processing Record 500 of Set 500 | bayan\n",
      "Processing Record 501 of Set 501 | chapayevka\n",
      "Processing Record 502 of Set 502 | mushie\n",
      "Processing Record 503 of Set 503 | killybegs\n",
      "Processing Record 504 of Set 504 | kulhudhuffushi\n",
      "Processing Record 505 of Set 505 | palamos\n",
      "Processing Record 506 of Set 506 | wellington\n",
      "Processing Record 507 of Set 507 | ootmarsum\n",
      "City not found. Skipping...\n",
      "Processing Record 508 of Set 508 | progreso\n",
      "Processing Record 509 of Set 509 | irituia\n",
      "Processing Record 510 of Set 510 | ziro\n",
      "Processing Record 511 of Set 511 | opuwo\n",
      "Processing Record 512 of Set 512 | mizdah\n",
      "Processing Record 513 of Set 513 | lodja\n",
      "Processing Record 514 of Set 514 | iskateley\n",
      "City not found. Skipping...\n",
      "Processing Record 515 of Set 515 | bathsheba\n",
      "Processing Record 516 of Set 516 | vanimo\n",
      "Processing Record 517 of Set 517 | mudhol\n",
      "Processing Record 518 of Set 518 | york\n",
      "Processing Record 519 of Set 519 | banda aceh\n",
      "Processing Record 520 of Set 520 | sao lourenco\n",
      "Processing Record 521 of Set 521 | swift current\n",
      "Processing Record 522 of Set 522 | oriximina\n",
      "Processing Record 523 of Set 523 | ust-nera\n",
      "Processing Record 524 of Set 524 | lorengau\n",
      "Processing Record 525 of Set 525 | tolaga bay\n",
      "Processing Record 526 of Set 526 | bartica\n",
      "Processing Record 527 of Set 527 | ouadda\n",
      "Processing Record 528 of Set 528 | ouesso\n",
      "Processing Record 529 of Set 529 | alta floresta\n",
      "Processing Record 530 of Set 530 | blois\n",
      "Processing Record 531 of Set 531 | iberia\n",
      "Processing Record 532 of Set 532 | fenoarivo atsinanana\n",
      "Processing Record 533 of Set 533 | luanda\n",
      "Processing Record 534 of Set 534 | katsina\n",
      "Processing Record 535 of Set 535 | amazar\n",
      "Processing Record 536 of Set 536 | neiafu\n",
      "Processing Record 537 of Set 537 | myitkyina\n",
      "Processing Record 538 of Set 538 | svobodnyy\n"
     ]
    },
    {
     "name": "stdout",
     "output_type": "stream",
     "text": [
      "Processing Record 539 of Set 539 | sibolga\n",
      "Processing Record 540 of Set 540 | sal rei\n",
      "Processing Record 541 of Set 541 | ust-uda\n",
      "Processing Record 542 of Set 542 | weligama\n",
      "Processing Record 543 of Set 543 | mahdalynivka\n",
      "City not found. Skipping...\n",
      "Processing Record 544 of Set 544 | pitimbu\n",
      "City not found. Skipping...\n",
      "Processing Record 545 of Set 545 | sarangani\n",
      "Processing Record 546 of Set 546 | ndele\n",
      "Processing Record 547 of Set 547 | tacoronte\n",
      "Processing Record 548 of Set 548 | horsham\n",
      "Processing Record 549 of Set 549 | seoul\n",
      "Processing Record 550 of Set 550 | ribeira brava\n",
      "Processing Record 551 of Set 551 | canon city\n",
      "Processing Record 552 of Set 552 | verkhnyachka\n",
      "Processing Record 553 of Set 553 | vrangel\n",
      "Processing Record 554 of Set 554 | caboolture\n",
      "Processing Record 555 of Set 555 | hirara\n",
      "Processing Record 556 of Set 556 | lachhmangarh\n",
      "Processing Record 557 of Set 557 | kiruna\n",
      "Processing Record 558 of Set 558 | nazilli\n",
      "Processing Record 559 of Set 559 | tavda\n",
      "Processing Record 560 of Set 560 | hambantota\n",
      "Processing Record 561 of Set 561 | raga\n",
      "Processing Record 562 of Set 562 | chicama\n",
      "Processing Record 563 of Set 563 | black river\n",
      "Processing Record 564 of Set 564 | kakrala\n",
      "Processing Record 565 of Set 565 | marsh harbour\n",
      "Processing Record 566 of Set 566 | susuman\n",
      "Processing Record 567 of Set 567 | rindal\n",
      "Processing Record 568 of Set 568 | ailigandi\n",
      "Processing Record 569 of Set 569 | churapcha\n",
      "Processing Record 570 of Set 570 | tahta\n",
      "Processing Record 571 of Set 571 | pekalongan\n",
      "Processing Record 572 of Set 572 | yashkul\n",
      "Processing Record 573 of Set 573 | baykit\n",
      "Processing Record 574 of Set 574 | shu\n",
      "Processing Record 575 of Set 575 | hervey bay\n",
      "-------------------------------\n",
      "Data Retrieval Complete\n",
      "-------------------------------\n"
     ]
    }
   ],
   "source": [
    "# empty list\n",
    "count = 1\n",
    "cloud = []\n",
    "new_cities =[]\n",
    "country = []\n",
    "date = []\n",
    "humidity = []\n",
    "temp = []\n",
    "lats = []\n",
    "longs =[]\n",
    "wind =[]\n",
    "\n",
    "print(\"Beginning Data Retrieval \")\n",
    "print(\"-------------------------------\")\n",
    "\n",
    "# For loop matching city names with cities\n",
    "for city in cities_name:\n",
    "    \n",
    "    try:\n",
    "        response = requests.get(query_url+city).json()\n",
    "        new_cities.append(response[\"name\"])\n",
    "        cloud.append(response[\"clouds\"][\"all\"])\n",
    "        country.append(response[\"sys\"][\"country\"])\n",
    "        date.append(response[\"dt\"])\n",
    "        humidity.append(response[\"main\"][\"humidity\"])\n",
    "        lats.append(response[\"coord\"][\"lat\"])\n",
    "        longs.append(response[\"coord\"][\"lon\"])\n",
    "        temp.append(response['main']['temp_max'])\n",
    "        wind.append(response[\"wind\"][\"speed\"])\n",
    "        print(f\"Processing Record {count} of Set {count} | {city}\")\n",
    "    \n",
    "        #Increment row_counter\n",
    "        \n",
    "        count += 1\n",
    "        \n",
    "        #Pause program execution for 1 sec\n",
    "        time.sleep(1.00)\n",
    "        \n",
    "    except(KeyError, IndexError):\n",
    "        print(\"City not found. Skipping...\")\n",
    "        \n",
    "        \n",
    "print(\"-------------------------------\")\n",
    "print(\"Data Retrieval Complete\")\n",
    "print(\"-------------------------------\")"
   ]
  },
  {
   "cell_type": "code",
   "execution_count": null,
   "metadata": {
    "scrolled": true
   },
   "outputs": [],
   "source": []
  },
  {
   "cell_type": "code",
   "execution_count": null,
   "metadata": {},
   "outputs": [],
   "source": []
  },
  {
   "cell_type": "code",
   "execution_count": 7,
   "metadata": {},
   "outputs": [],
   "source": [
    "# for index, row in weather_df.iterriws():\n",
    "#     city = row['City']\n",
    "#     cities_lat_lng = requests.get(query_url + city).json()\n",
    "#     weather_df[index,\"Lat\"] = cities_lat_lng[\"coord\"][\"lat\"]\n",
    "#     weather_df[index,\"Lng\"] = cities_lat_lng[\"coord\"][\"lon\"]\n",
    "#     weather_df[index,\"Max Temp\"] = cities_lat_lng[\"main\"][\"temp_max\"]\n",
    "#     weather_df[index,\"Humidity\"] = cities_lat_lng[\"main\"][\"humidity\"]\n",
    "#     weather_df[index,\"Cloudiness\"] = cities_lat_lng[\"main\"][\"humidity\"]\n",
    "#     weather_df[index,\"Wind Speed\"] = cities_lat_lng[\"main\"][\"humidity\"]\n",
    "#     weather_df[index,\"Country\"] = cities_lat_lng[\"main\"][\"humidity\"]\n",
    "#     weather_df[index,\"Date\"] = cities_lat_lng[\"main\"][\"humidity\"]"
   ]
  },
  {
   "cell_type": "markdown",
   "metadata": {},
   "source": [
    "### Convert Raw Data to DataFrame\n",
    "* Export the city data into a .csv.\n",
    "* Display the DataFrame"
   ]
  },
  {
   "cell_type": "code",
   "execution_count": 8,
   "metadata": {},
   "outputs": [
    {
     "data": {
      "text/html": [
       "<div>\n",
       "<style scoped>\n",
       "    .dataframe tbody tr th:only-of-type {\n",
       "        vertical-align: middle;\n",
       "    }\n",
       "\n",
       "    .dataframe tbody tr th {\n",
       "        vertical-align: top;\n",
       "    }\n",
       "\n",
       "    .dataframe thead th {\n",
       "        text-align: right;\n",
       "    }\n",
       "</style>\n",
       "<table border=\"1\" class=\"dataframe\">\n",
       "  <thead>\n",
       "    <tr style=\"text-align: right;\">\n",
       "      <th></th>\n",
       "      <th>City</th>\n",
       "      <th>Lat</th>\n",
       "      <th>Lng</th>\n",
       "      <th>Max Temp</th>\n",
       "      <th>Humidity</th>\n",
       "      <th>Cloudiness</th>\n",
       "      <th>Wind Speed</th>\n",
       "      <th>Country</th>\n",
       "      <th>Date</th>\n",
       "    </tr>\n",
       "  </thead>\n",
       "  <tbody>\n",
       "    <tr>\n",
       "      <th>0</th>\n",
       "      <td>Mossamedes</td>\n",
       "      <td>-15.1961</td>\n",
       "      <td>12.1522</td>\n",
       "      <td>63.18</td>\n",
       "      <td>89</td>\n",
       "      <td>67</td>\n",
       "      <td>7.31</td>\n",
       "      <td>AO</td>\n",
       "      <td>1631573452</td>\n",
       "    </tr>\n",
       "    <tr>\n",
       "      <th>1</th>\n",
       "      <td>Carnarvon</td>\n",
       "      <td>-24.8667</td>\n",
       "      <td>113.6333</td>\n",
       "      <td>50.07</td>\n",
       "      <td>87</td>\n",
       "      <td>0</td>\n",
       "      <td>9.22</td>\n",
       "      <td>AU</td>\n",
       "      <td>1631573182</td>\n",
       "    </tr>\n",
       "    <tr>\n",
       "      <th>2</th>\n",
       "      <td>Compiègne</td>\n",
       "      <td>49.4179</td>\n",
       "      <td>2.8261</td>\n",
       "      <td>70.09</td>\n",
       "      <td>82</td>\n",
       "      <td>96</td>\n",
       "      <td>5.64</td>\n",
       "      <td>FR</td>\n",
       "      <td>1631573456</td>\n",
       "    </tr>\n",
       "    <tr>\n",
       "      <th>3</th>\n",
       "      <td>Butaritari</td>\n",
       "      <td>3.0707</td>\n",
       "      <td>172.7902</td>\n",
       "      <td>82.36</td>\n",
       "      <td>77</td>\n",
       "      <td>47</td>\n",
       "      <td>16.64</td>\n",
       "      <td>KI</td>\n",
       "      <td>1631573169</td>\n",
       "    </tr>\n",
       "    <tr>\n",
       "      <th>4</th>\n",
       "      <td>Punta Arenas</td>\n",
       "      <td>-53.1500</td>\n",
       "      <td>-70.9167</td>\n",
       "      <td>48.22</td>\n",
       "      <td>71</td>\n",
       "      <td>75</td>\n",
       "      <td>23.02</td>\n",
       "      <td>CL</td>\n",
       "      <td>1631573067</td>\n",
       "    </tr>\n",
       "    <tr>\n",
       "      <th>...</th>\n",
       "      <td>...</td>\n",
       "      <td>...</td>\n",
       "      <td>...</td>\n",
       "      <td>...</td>\n",
       "      <td>...</td>\n",
       "      <td>...</td>\n",
       "      <td>...</td>\n",
       "      <td>...</td>\n",
       "      <td>...</td>\n",
       "    </tr>\n",
       "    <tr>\n",
       "      <th>570</th>\n",
       "      <td>Pekalongan</td>\n",
       "      <td>-6.8886</td>\n",
       "      <td>109.6753</td>\n",
       "      <td>77.95</td>\n",
       "      <td>82</td>\n",
       "      <td>96</td>\n",
       "      <td>2.51</td>\n",
       "      <td>ID</td>\n",
       "      <td>1631574795</td>\n",
       "    </tr>\n",
       "    <tr>\n",
       "      <th>571</th>\n",
       "      <td>Yashkul'</td>\n",
       "      <td>46.1711</td>\n",
       "      <td>45.3435</td>\n",
       "      <td>65.17</td>\n",
       "      <td>57</td>\n",
       "      <td>58</td>\n",
       "      <td>5.37</td>\n",
       "      <td>RU</td>\n",
       "      <td>1631574891</td>\n",
       "    </tr>\n",
       "    <tr>\n",
       "      <th>572</th>\n",
       "      <td>Baykit</td>\n",
       "      <td>61.6700</td>\n",
       "      <td>96.3700</td>\n",
       "      <td>39.85</td>\n",
       "      <td>94</td>\n",
       "      <td>99</td>\n",
       "      <td>6.29</td>\n",
       "      <td>RU</td>\n",
       "      <td>1631574893</td>\n",
       "    </tr>\n",
       "    <tr>\n",
       "      <th>573</th>\n",
       "      <td>Chu</td>\n",
       "      <td>43.5983</td>\n",
       "      <td>73.7614</td>\n",
       "      <td>61.57</td>\n",
       "      <td>32</td>\n",
       "      <td>78</td>\n",
       "      <td>4.12</td>\n",
       "      <td>KZ</td>\n",
       "      <td>1631574896</td>\n",
       "    </tr>\n",
       "    <tr>\n",
       "      <th>574</th>\n",
       "      <td>Hervey Bay</td>\n",
       "      <td>-25.2986</td>\n",
       "      <td>152.8535</td>\n",
       "      <td>71.04</td>\n",
       "      <td>39</td>\n",
       "      <td>0</td>\n",
       "      <td>13.24</td>\n",
       "      <td>AU</td>\n",
       "      <td>1631574808</td>\n",
       "    </tr>\n",
       "  </tbody>\n",
       "</table>\n",
       "<p>575 rows × 9 columns</p>\n",
       "</div>"
      ],
      "text/plain": [
       "             City      Lat       Lng  Max Temp  Humidity  Cloudiness  \\\n",
       "0      Mossamedes -15.1961   12.1522     63.18        89          67   \n",
       "1       Carnarvon -24.8667  113.6333     50.07        87           0   \n",
       "2       Compiègne  49.4179    2.8261     70.09        82          96   \n",
       "3      Butaritari   3.0707  172.7902     82.36        77          47   \n",
       "4    Punta Arenas -53.1500  -70.9167     48.22        71          75   \n",
       "..            ...      ...       ...       ...       ...         ...   \n",
       "570    Pekalongan  -6.8886  109.6753     77.95        82          96   \n",
       "571      Yashkul'  46.1711   45.3435     65.17        57          58   \n",
       "572        Baykit  61.6700   96.3700     39.85        94          99   \n",
       "573           Chu  43.5983   73.7614     61.57        32          78   \n",
       "574    Hervey Bay -25.2986  152.8535     71.04        39           0   \n",
       "\n",
       "     Wind Speed Country        Date  \n",
       "0          7.31      AO  1631573452  \n",
       "1          9.22      AU  1631573182  \n",
       "2          5.64      FR  1631573456  \n",
       "3         16.64      KI  1631573169  \n",
       "4         23.02      CL  1631573067  \n",
       "..          ...     ...         ...  \n",
       "570        2.51      ID  1631574795  \n",
       "571        5.37      RU  1631574891  \n",
       "572        6.29      RU  1631574893  \n",
       "573        4.12      KZ  1631574896  \n",
       "574       13.24      AU  1631574808  \n",
       "\n",
       "[575 rows x 9 columns]"
      ]
     },
     "execution_count": 8,
     "metadata": {},
     "output_type": "execute_result"
    }
   ],
   "source": [
    "# NEW DATAFRAME\n",
    "\n",
    "weather_df = pd.DataFrame({\n",
    "    'City' : new_cities,\n",
    "    'Lat' : lats,\n",
    "    'Lng' : longs,\n",
    "    'Max Temp' : temp,\n",
    "    'Humidity' : humidity,\n",
    "    'Cloudiness' : cloud,\n",
    "    'Wind Speed' : wind,\n",
    "    'Country' : country,\n",
    "    'Date' : date\n",
    "})\n",
    "weather_df"
   ]
  },
  {
   "cell_type": "code",
   "execution_count": 9,
   "metadata": {},
   "outputs": [
    {
     "data": {
      "text/html": [
       "<div>\n",
       "<style scoped>\n",
       "    .dataframe tbody tr th:only-of-type {\n",
       "        vertical-align: middle;\n",
       "    }\n",
       "\n",
       "    .dataframe tbody tr th {\n",
       "        vertical-align: top;\n",
       "    }\n",
       "\n",
       "    .dataframe thead th {\n",
       "        text-align: right;\n",
       "    }\n",
       "</style>\n",
       "<table border=\"1\" class=\"dataframe\">\n",
       "  <thead>\n",
       "    <tr style=\"text-align: right;\">\n",
       "      <th></th>\n",
       "      <th>Lat</th>\n",
       "      <th>Lng</th>\n",
       "      <th>Max Temp</th>\n",
       "      <th>Humidity</th>\n",
       "      <th>Cloudiness</th>\n",
       "      <th>Wind Speed</th>\n",
       "      <th>Date</th>\n",
       "    </tr>\n",
       "  </thead>\n",
       "  <tbody>\n",
       "    <tr>\n",
       "      <th>count</th>\n",
       "      <td>575.000000</td>\n",
       "      <td>575.000000</td>\n",
       "      <td>575.000000</td>\n",
       "      <td>575.000000</td>\n",
       "      <td>575.000000</td>\n",
       "      <td>575.000000</td>\n",
       "      <td>5.750000e+02</td>\n",
       "    </tr>\n",
       "    <tr>\n",
       "      <th>mean</th>\n",
       "      <td>19.491070</td>\n",
       "      <td>22.045040</td>\n",
       "      <td>66.609774</td>\n",
       "      <td>72.093913</td>\n",
       "      <td>53.886957</td>\n",
       "      <td>7.367983</td>\n",
       "      <td>1.631574e+09</td>\n",
       "    </tr>\n",
       "    <tr>\n",
       "      <th>std</th>\n",
       "      <td>32.863302</td>\n",
       "      <td>90.582745</td>\n",
       "      <td>15.336220</td>\n",
       "      <td>20.412938</td>\n",
       "      <td>39.229239</td>\n",
       "      <td>5.565958</td>\n",
       "      <td>4.848476e+02</td>\n",
       "    </tr>\n",
       "    <tr>\n",
       "      <th>min</th>\n",
       "      <td>-54.800000</td>\n",
       "      <td>-179.166700</td>\n",
       "      <td>18.500000</td>\n",
       "      <td>8.000000</td>\n",
       "      <td>0.000000</td>\n",
       "      <td>0.000000</td>\n",
       "      <td>1.631573e+09</td>\n",
       "    </tr>\n",
       "    <tr>\n",
       "      <th>25%</th>\n",
       "      <td>-7.789250</td>\n",
       "      <td>-58.676750</td>\n",
       "      <td>54.870000</td>\n",
       "      <td>64.000000</td>\n",
       "      <td>12.000000</td>\n",
       "      <td>3.120000</td>\n",
       "      <td>1.631574e+09</td>\n",
       "    </tr>\n",
       "    <tr>\n",
       "      <th>50%</th>\n",
       "      <td>22.494700</td>\n",
       "      <td>25.570100</td>\n",
       "      <td>69.940000</td>\n",
       "      <td>77.000000</td>\n",
       "      <td>60.000000</td>\n",
       "      <td>5.770000</td>\n",
       "      <td>1.631574e+09</td>\n",
       "    </tr>\n",
       "    <tr>\n",
       "      <th>75%</th>\n",
       "      <td>47.904000</td>\n",
       "      <td>105.893950</td>\n",
       "      <td>77.945000</td>\n",
       "      <td>87.000000</td>\n",
       "      <td>94.000000</td>\n",
       "      <td>10.215000</td>\n",
       "      <td>1.631574e+09</td>\n",
       "    </tr>\n",
       "    <tr>\n",
       "      <th>max</th>\n",
       "      <td>78.218600</td>\n",
       "      <td>179.316700</td>\n",
       "      <td>107.040000</td>\n",
       "      <td>100.000000</td>\n",
       "      <td>100.000000</td>\n",
       "      <td>37.450000</td>\n",
       "      <td>1.631575e+09</td>\n",
       "    </tr>\n",
       "  </tbody>\n",
       "</table>\n",
       "</div>"
      ],
      "text/plain": [
       "              Lat         Lng    Max Temp    Humidity  Cloudiness  Wind Speed  \\\n",
       "count  575.000000  575.000000  575.000000  575.000000  575.000000  575.000000   \n",
       "mean    19.491070   22.045040   66.609774   72.093913   53.886957    7.367983   \n",
       "std     32.863302   90.582745   15.336220   20.412938   39.229239    5.565958   \n",
       "min    -54.800000 -179.166700   18.500000    8.000000    0.000000    0.000000   \n",
       "25%     -7.789250  -58.676750   54.870000   64.000000   12.000000    3.120000   \n",
       "50%     22.494700   25.570100   69.940000   77.000000   60.000000    5.770000   \n",
       "75%     47.904000  105.893950   77.945000   87.000000   94.000000   10.215000   \n",
       "max     78.218600  179.316700  107.040000  100.000000  100.000000   37.450000   \n",
       "\n",
       "               Date  \n",
       "count  5.750000e+02  \n",
       "mean   1.631574e+09  \n",
       "std    4.848476e+02  \n",
       "min    1.631573e+09  \n",
       "25%    1.631574e+09  \n",
       "50%    1.631574e+09  \n",
       "75%    1.631574e+09  \n",
       "max    1.631575e+09  "
      ]
     },
     "execution_count": 9,
     "metadata": {},
     "output_type": "execute_result"
    }
   ],
   "source": [
    "weather_df.describe()"
   ]
  },
  {
   "cell_type": "code",
   "execution_count": null,
   "metadata": {},
   "outputs": [],
   "source": []
  },
  {
   "cell_type": "code",
   "execution_count": null,
   "metadata": {},
   "outputs": [],
   "source": []
  },
  {
   "cell_type": "markdown",
   "metadata": {},
   "source": [
    "## Inspect the data and remove the cities where the humidity > 100%.\n",
    "----\n",
    "Skip this step if there are no cities that have humidity > 100%. "
   ]
  },
  {
   "cell_type": "code",
   "execution_count": 10,
   "metadata": {},
   "outputs": [
    {
     "data": {
      "text/plain": [
       "City           object\n",
       "Lat           float64\n",
       "Lng           float64\n",
       "Max Temp      float64\n",
       "Humidity        int64\n",
       "Cloudiness      int64\n",
       "Wind Speed    float64\n",
       "Country        object\n",
       "Date            int64\n",
       "dtype: object"
      ]
     },
     "execution_count": 10,
     "metadata": {},
     "output_type": "execute_result"
    }
   ],
   "source": [
    "weather_df.dtypes"
   ]
  },
  {
   "cell_type": "code",
   "execution_count": null,
   "metadata": {},
   "outputs": [],
   "source": []
  },
  {
   "cell_type": "code",
   "execution_count": null,
   "metadata": {},
   "outputs": [],
   "source": []
  },
  {
   "cell_type": "code",
   "execution_count": 11,
   "metadata": {},
   "outputs": [
    {
     "data": {
      "text/html": [
       "<div>\n",
       "<style scoped>\n",
       "    .dataframe tbody tr th:only-of-type {\n",
       "        vertical-align: middle;\n",
       "    }\n",
       "\n",
       "    .dataframe tbody tr th {\n",
       "        vertical-align: top;\n",
       "    }\n",
       "\n",
       "    .dataframe thead th {\n",
       "        text-align: right;\n",
       "    }\n",
       "</style>\n",
       "<table border=\"1\" class=\"dataframe\">\n",
       "  <thead>\n",
       "    <tr style=\"text-align: right;\">\n",
       "      <th></th>\n",
       "      <th>City</th>\n",
       "      <th>Lat</th>\n",
       "      <th>Lng</th>\n",
       "      <th>Max Temp</th>\n",
       "      <th>Humidity</th>\n",
       "      <th>Cloudiness</th>\n",
       "      <th>Wind Speed</th>\n",
       "      <th>Country</th>\n",
       "      <th>Date</th>\n",
       "    </tr>\n",
       "  </thead>\n",
       "  <tbody>\n",
       "  </tbody>\n",
       "</table>\n",
       "</div>"
      ],
      "text/plain": [
       "Empty DataFrame\n",
       "Columns: [City, Lat, Lng, Max Temp, Humidity, Cloudiness, Wind Speed, Country, Date]\n",
       "Index: []"
      ]
     },
     "execution_count": 11,
     "metadata": {},
     "output_type": "execute_result"
    }
   ],
   "source": [
    "#  Get the indices of cities that have humidity over 100%.\n",
    "weather_df_new = weather_df.loc[weather_df[\"Humidity\"] >100,]\n",
    "weather_df_new"
   ]
  },
  {
   "cell_type": "code",
   "execution_count": null,
   "metadata": {},
   "outputs": [],
   "source": [
    "\n"
   ]
  },
  {
   "cell_type": "code",
   "execution_count": 12,
   "metadata": {},
   "outputs": [
    {
     "data": {
      "text/html": [
       "<div>\n",
       "<style scoped>\n",
       "    .dataframe tbody tr th:only-of-type {\n",
       "        vertical-align: middle;\n",
       "    }\n",
       "\n",
       "    .dataframe tbody tr th {\n",
       "        vertical-align: top;\n",
       "    }\n",
       "\n",
       "    .dataframe thead th {\n",
       "        text-align: right;\n",
       "    }\n",
       "</style>\n",
       "<table border=\"1\" class=\"dataframe\">\n",
       "  <thead>\n",
       "    <tr style=\"text-align: right;\">\n",
       "      <th></th>\n",
       "      <th>City</th>\n",
       "      <th>Lat</th>\n",
       "      <th>Lng</th>\n",
       "      <th>Max Temp</th>\n",
       "      <th>Humidity</th>\n",
       "      <th>Cloudiness</th>\n",
       "      <th>Wind Speed</th>\n",
       "      <th>Country</th>\n",
       "      <th>Date</th>\n",
       "    </tr>\n",
       "  </thead>\n",
       "  <tbody>\n",
       "    <tr>\n",
       "      <th>0</th>\n",
       "      <td>Mossamedes</td>\n",
       "      <td>-15.1961</td>\n",
       "      <td>12.1522</td>\n",
       "      <td>63.18</td>\n",
       "      <td>89</td>\n",
       "      <td>67</td>\n",
       "      <td>7.31</td>\n",
       "      <td>AO</td>\n",
       "      <td>1631573452</td>\n",
       "    </tr>\n",
       "    <tr>\n",
       "      <th>1</th>\n",
       "      <td>Carnarvon</td>\n",
       "      <td>-24.8667</td>\n",
       "      <td>113.6333</td>\n",
       "      <td>50.07</td>\n",
       "      <td>87</td>\n",
       "      <td>0</td>\n",
       "      <td>9.22</td>\n",
       "      <td>AU</td>\n",
       "      <td>1631573182</td>\n",
       "    </tr>\n",
       "    <tr>\n",
       "      <th>2</th>\n",
       "      <td>Compiègne</td>\n",
       "      <td>49.4179</td>\n",
       "      <td>2.8261</td>\n",
       "      <td>70.09</td>\n",
       "      <td>82</td>\n",
       "      <td>96</td>\n",
       "      <td>5.64</td>\n",
       "      <td>FR</td>\n",
       "      <td>1631573456</td>\n",
       "    </tr>\n",
       "    <tr>\n",
       "      <th>3</th>\n",
       "      <td>Butaritari</td>\n",
       "      <td>3.0707</td>\n",
       "      <td>172.7902</td>\n",
       "      <td>82.36</td>\n",
       "      <td>77</td>\n",
       "      <td>47</td>\n",
       "      <td>16.64</td>\n",
       "      <td>KI</td>\n",
       "      <td>1631573169</td>\n",
       "    </tr>\n",
       "    <tr>\n",
       "      <th>4</th>\n",
       "      <td>Punta Arenas</td>\n",
       "      <td>-53.1500</td>\n",
       "      <td>-70.9167</td>\n",
       "      <td>48.22</td>\n",
       "      <td>71</td>\n",
       "      <td>75</td>\n",
       "      <td>23.02</td>\n",
       "      <td>CL</td>\n",
       "      <td>1631573067</td>\n",
       "    </tr>\n",
       "    <tr>\n",
       "      <th>...</th>\n",
       "      <td>...</td>\n",
       "      <td>...</td>\n",
       "      <td>...</td>\n",
       "      <td>...</td>\n",
       "      <td>...</td>\n",
       "      <td>...</td>\n",
       "      <td>...</td>\n",
       "      <td>...</td>\n",
       "      <td>...</td>\n",
       "    </tr>\n",
       "    <tr>\n",
       "      <th>570</th>\n",
       "      <td>Pekalongan</td>\n",
       "      <td>-6.8886</td>\n",
       "      <td>109.6753</td>\n",
       "      <td>77.95</td>\n",
       "      <td>82</td>\n",
       "      <td>96</td>\n",
       "      <td>2.51</td>\n",
       "      <td>ID</td>\n",
       "      <td>1631574795</td>\n",
       "    </tr>\n",
       "    <tr>\n",
       "      <th>571</th>\n",
       "      <td>Yashkul'</td>\n",
       "      <td>46.1711</td>\n",
       "      <td>45.3435</td>\n",
       "      <td>65.17</td>\n",
       "      <td>57</td>\n",
       "      <td>58</td>\n",
       "      <td>5.37</td>\n",
       "      <td>RU</td>\n",
       "      <td>1631574891</td>\n",
       "    </tr>\n",
       "    <tr>\n",
       "      <th>572</th>\n",
       "      <td>Baykit</td>\n",
       "      <td>61.6700</td>\n",
       "      <td>96.3700</td>\n",
       "      <td>39.85</td>\n",
       "      <td>94</td>\n",
       "      <td>99</td>\n",
       "      <td>6.29</td>\n",
       "      <td>RU</td>\n",
       "      <td>1631574893</td>\n",
       "    </tr>\n",
       "    <tr>\n",
       "      <th>573</th>\n",
       "      <td>Chu</td>\n",
       "      <td>43.5983</td>\n",
       "      <td>73.7614</td>\n",
       "      <td>61.57</td>\n",
       "      <td>32</td>\n",
       "      <td>78</td>\n",
       "      <td>4.12</td>\n",
       "      <td>KZ</td>\n",
       "      <td>1631574896</td>\n",
       "    </tr>\n",
       "    <tr>\n",
       "      <th>574</th>\n",
       "      <td>Hervey Bay</td>\n",
       "      <td>-25.2986</td>\n",
       "      <td>152.8535</td>\n",
       "      <td>71.04</td>\n",
       "      <td>39</td>\n",
       "      <td>0</td>\n",
       "      <td>13.24</td>\n",
       "      <td>AU</td>\n",
       "      <td>1631574808</td>\n",
       "    </tr>\n",
       "  </tbody>\n",
       "</table>\n",
       "<p>572 rows × 9 columns</p>\n",
       "</div>"
      ],
      "text/plain": [
       "             City      Lat       Lng  Max Temp  Humidity  Cloudiness  \\\n",
       "0      Mossamedes -15.1961   12.1522     63.18        89          67   \n",
       "1       Carnarvon -24.8667  113.6333     50.07        87           0   \n",
       "2       Compiègne  49.4179    2.8261     70.09        82          96   \n",
       "3      Butaritari   3.0707  172.7902     82.36        77          47   \n",
       "4    Punta Arenas -53.1500  -70.9167     48.22        71          75   \n",
       "..            ...      ...       ...       ...       ...         ...   \n",
       "570    Pekalongan  -6.8886  109.6753     77.95        82          96   \n",
       "571      Yashkul'  46.1711   45.3435     65.17        57          58   \n",
       "572        Baykit  61.6700   96.3700     39.85        94          99   \n",
       "573           Chu  43.5983   73.7614     61.57        32          78   \n",
       "574    Hervey Bay -25.2986  152.8535     71.04        39           0   \n",
       "\n",
       "     Wind Speed Country        Date  \n",
       "0          7.31      AO  1631573452  \n",
       "1          9.22      AU  1631573182  \n",
       "2          5.64      FR  1631573456  \n",
       "3         16.64      KI  1631573169  \n",
       "4         23.02      CL  1631573067  \n",
       "..          ...     ...         ...  \n",
       "570        2.51      ID  1631574795  \n",
       "571        5.37      RU  1631574891  \n",
       "572        6.29      RU  1631574893  \n",
       "573        4.12      KZ  1631574896  \n",
       "574       13.24      AU  1631574808  \n",
       "\n",
       "[572 rows x 9 columns]"
      ]
     },
     "execution_count": 12,
     "metadata": {},
     "output_type": "execute_result"
    }
   ],
   "source": [
    "# Make a new DataFrame equal to the city data to drop all humidity outliers by index.\n",
    "# Passing \"inplace=False\" will make a copy of the city_data DataFrame, which we call \"clean_city_data\".\n",
    "from scipy import stats\n",
    "clean_city_data = weather_df[(np.abs(stats.zscore(weather_df[\"Humidity\"])) < 3)]\n",
    "clean_city_data"
   ]
  },
  {
   "cell_type": "code",
   "execution_count": 13,
   "metadata": {},
   "outputs": [],
   "source": [
    "# Save Data to csv\n",
    "clean_city_data.to_csv(\"../output_data/weather_output.csv\")"
   ]
  },
  {
   "cell_type": "markdown",
   "metadata": {},
   "source": [
    "## Plotting the Data\n",
    "* Use proper labeling of the plots using plot titles (including date of analysis) and axes labels.\n",
    "* Save the plotted figures as .pngs."
   ]
  },
  {
   "cell_type": "markdown",
   "metadata": {},
   "source": [
    "## Latitude vs. Temperature Plot"
   ]
  },
  {
   "cell_type": "code",
   "execution_count": null,
   "metadata": {
    "scrolled": true
   },
   "outputs": [],
   "source": []
  },
  {
   "cell_type": "code",
   "execution_count": 36,
   "metadata": {},
   "outputs": [
    {
     "data": {
      "image/png": "[encoded data removed]",
      "text/plain": [
       "<Figure size 432x288 with 1 Axes>"
      ]
     },
     "metadata": {
      "needs_background": "light"
     },
     "output_type": "display_data"
    }
   ],
   "source": [
    "\n",
    "lat_temp_plot = clean_city_data.plot(kind = \"scatter\", x = \"Lat\", y = \"Max Temp\", s=40, marker='o', edgecolors='black',color = 'steelblue', grid = True, \n",
    "                                     xlabel = \"Latitude\",\n",
    "                                     ylabel = \"Max Temperature (F)\",\n",
    "                                     title = f'City Latitude vs max Temperature')\n",
    "plt.savefig('../output_data/Fig1.png')"
   ]
  },
  {
   "cell_type": "code",
   "execution_count": null,
   "metadata": {},
   "outputs": [],
   "source": []
  },
  {
   "cell_type": "markdown",
   "metadata": {},
   "source": [
    "## Latitude vs. Humidity Plot"
   ]
  },
  {
   "cell_type": "code",
   "execution_count": 37,
   "metadata": {},
   "outputs": [
    {
     "data": {
      "image/png": "[encoded data removed]",
      "text/plain": [
       "<Figure size 432x288 with 1 Axes>"
      ]
     },
     "metadata": {
      "needs_background": "light"
     },
     "output_type": "display_data"
    }
   ],
   "source": [
    "lat_humidity_plot = clean_city_data.plot(kind = \"scatter\", x = \"Lat\", y = \"Humidity\", s=40, marker='o', edgecolors='black',color = 'steelblue', grid = True, \n",
    "                                     title = f'City Latitude vs Humidity',\n",
    "                                     xlabel = 'Latitude',\n",
    "                                     ylabel = 'Humidity (%)')\n",
    "plt.savefig('../output_data/Fig2.png')"
   ]
  },
  {
   "cell_type": "code",
   "execution_count": null,
   "metadata": {},
   "outputs": [],
   "source": []
  },
  {
   "cell_type": "markdown",
   "metadata": {},
   "source": [
    "## Latitude vs. Cloudiness Plot"
   ]
  },
  {
   "cell_type": "code",
   "execution_count": 38,
   "metadata": {},
   "outputs": [
    {
     "data": {
      "image/png": "[encoded data removed]",
      "text/plain": [
       "<Figure size 432x288 with 1 Axes>"
      ]
     },
     "metadata": {
      "needs_background": "light"
     },
     "output_type": "display_data"
    }
   ],
   "source": [
    "lat_cloud_plot = clean_city_data.plot(kind = \"scatter\", x = \"Lat\", y = \"Cloudiness\", s=40, marker='o', edgecolors='black',color = 'steelblue', grid = True, \n",
    "                                     title = f'City Latitude vs Cloudiness',\n",
    "                                     xlabel = 'Latitude',\n",
    "                                     ylabel = 'Cloudiness (%)')\n",
    "plt.savefig('../output_data/Fig3.png')"
   ]
  },
  {
   "cell_type": "code",
   "execution_count": null,
   "metadata": {},
   "outputs": [],
   "source": []
  },
  {
   "cell_type": "markdown",
   "metadata": {},
   "source": [
    "## Latitude vs. Wind Speed Plot"
   ]
  },
  {
   "cell_type": "code",
   "execution_count": 39,
   "metadata": {},
   "outputs": [
    {
     "data": {
      "image/png": "[encoded data removed]",
      "text/plain": [
       "<Figure size 432x288 with 1 Axes>"
      ]
     },
     "metadata": {
      "needs_background": "light"
     },
     "output_type": "display_data"
    }
   ],
   "source": [
    "lat_wind_plot = clean_city_data.plot(kind = \"scatter\", x = \"Lat\", y = \"Wind Speed\", s=40, marker='o', edgecolors='black',color = 'steelblue', grid = True, \n",
    "                                     title = f'City Latitude vs. Wind Speed',\n",
    "                                     xlabel = 'Latitude',\n",
    "                                     ylabel = 'Wind Speed (mph)')\n",
    "plt.savefig('../output_data/Fig4.png')"
   ]
  },
  {
   "cell_type": "code",
   "execution_count": null,
   "metadata": {},
   "outputs": [],
   "source": []
  },
  {
   "cell_type": "markdown",
   "metadata": {},
   "source": [
    "## Linear Regression"
   ]
  },
  {
   "cell_type": "code",
   "execution_count": null,
   "metadata": {},
   "outputs": [],
   "source": []
  },
  {
   "cell_type": "markdown",
   "metadata": {},
   "source": [
    "####  Northern Hemisphere - Max Temp vs. Latitude Linear Regression"
   ]
  },
  {
   "cell_type": "code",
   "execution_count": 40,
   "metadata": {},
   "outputs": [
    {
     "name": "stdout",
     "output_type": "stream",
     "text": [
      "The r-value is:-0.7801497142434468\n"
     ]
    },
    {
     "data": {
      "image/png": "[encoded data removed]",
      "text/plain": [
       "<Figure size 432x288 with 1 Axes>"
      ]
     },
     "metadata": {
      "needs_background": "light"
     },
     "output_type": "display_data"
    }
   ],
   "source": [
    "# Add the linear regression equation and line to plot\n",
    "x_values = clean_city_data['Lat'].loc[clean_city_data['Lat']>= 0,]\n",
    "\n",
    "y_values = clean_city_data['Max Temp'].loc[clean_city_data['Lat']>= 0,]\n",
    "(slope, intercept, rvalue, pvalue, stderr) = linregress(x_values, y_values)\n",
    "print(f'The r-value is:{rvalue}')\n",
    "regress_values = x_values * slope + intercept\n",
    "line_eq = \"y = \" + str(round(slope,2)) + \"x + \" + str(round(intercept,2))\n",
    "plt.scatter(x_values,y_values)\n",
    "plt.plot(x_values,regress_values,\"r-\")\n",
    "plt.annotate(line_eq,fontsize=15,color=\"red\",xy=(10, 20))\n",
    "plt.xlabel('Latitude')\n",
    "plt.ylabel('Max Temp')\n",
    "plt.savefig('../output_data/Fig5.png')\n",
    "plt.show()"
   ]
  },
  {
   "cell_type": "code",
   "execution_count": null,
   "metadata": {},
   "outputs": [],
   "source": []
  },
  {
   "cell_type": "markdown",
   "metadata": {},
   "source": [
    "####  Southern Hemisphere - Max Temp vs. Latitude Linear Regression"
   ]
  },
  {
   "cell_type": "code",
   "execution_count": 41,
   "metadata": {
    "scrolled": true
   },
   "outputs": [
    {
     "name": "stdout",
     "output_type": "stream",
     "text": [
      "The r-value is:0.7650902396279415\n"
     ]
    },
    {
     "data": {
      "image/png": "[encoded data removed]",
      "text/plain": [
       "<Figure size 432x288 with 1 Axes>"
      ]
     },
     "metadata": {
      "needs_background": "light"
     },
     "output_type": "display_data"
    }
   ],
   "source": [
    "# Add the linear regression equation and line to plot\n",
    "x_values = clean_city_data['Lat'].loc[clean_city_data['Lat']<= 0,]\n",
    "\n",
    "y_values = clean_city_data['Max Temp'].loc[clean_city_data['Lat']<= 0,]\n",
    "(slope, intercept, rvalue, pvalue, stderr) = linregress(x_values, y_values)\n",
    "print(f'The r-value is:{rvalue}')\n",
    "regress_values = x_values * slope + intercept\n",
    "line_eq = \"y = \" + str(round(slope,2)) + \"x + \" + str(round(intercept,2))\n",
    "plt.scatter(x_values,y_values)\n",
    "plt.plot(x_values,regress_values,\"r-\")\n",
    "plt.annotate(line_eq,fontsize=15,color=\"red\",xy=(-50, 80))\n",
    "plt.xlabel('Latitude')\n",
    "plt.ylabel('Max Temp')\n",
    "plt.savefig('../output_data/Fig6.png')\n",
    "plt.show()"
   ]
  },
  {
   "cell_type": "code",
   "execution_count": null,
   "metadata": {},
   "outputs": [],
   "source": []
  },
  {
   "cell_type": "markdown",
   "metadata": {},
   "source": [
    "####  Northern Hemisphere - Humidity (%) vs. Latitude Linear Regression"
   ]
  },
  {
   "cell_type": "code",
   "execution_count": 42,
   "metadata": {},
   "outputs": [
    {
     "name": "stdout",
     "output_type": "stream",
     "text": [
      "The r-value is:-0.09323660197181072\n"
     ]
    },
    {
     "data": {
      "image/png": "[encoded data removed]",
      "text/plain": [
       "<Figure size 432x288 with 1 Axes>"
      ]
     },
     "metadata": {
      "needs_background": "light"
     },
     "output_type": "display_data"
    }
   ],
   "source": [
    "# Add the linear regression equation and line to plot\n",
    "x_values = clean_city_data['Lat'].loc[clean_city_data['Lat']>= 0,]\n",
    "\n",
    "y_values = clean_city_data['Humidity'].loc[clean_city_data['Lat']>= 0,]\n",
    "(slope, intercept, rvalue, pvalue, stderr) = linregress(x_values, y_values)\n",
    "print(f'The r-value is:{rvalue}')\n",
    "regress_values = x_values * slope + intercept\n",
    "line_eq = \"y = \" + str(round(slope,2)) + \"x + \" + str(round(intercept,2))\n",
    "plt.scatter(x_values,y_values)\n",
    "plt.plot(x_values,regress_values,\"r-\")\n",
    "plt.annotate(line_eq,fontsize=15,color=\"red\",xy=(50,20))\n",
    "plt.xlabel('Latitude')\n",
    "plt.ylabel('Humidity')\n",
    "plt.savefig('../output_data/Fig7.png')\n",
    "plt.show()"
   ]
  },
  {
   "cell_type": "code",
   "execution_count": null,
   "metadata": {},
   "outputs": [],
   "source": []
  },
  {
   "cell_type": "markdown",
   "metadata": {},
   "source": [
    "####  Southern Hemisphere - Humidity (%) vs. Latitude Linear Regression"
   ]
  },
  {
   "cell_type": "code",
   "execution_count": 43,
   "metadata": {
    "scrolled": true
   },
   "outputs": [
    {
     "name": "stdout",
     "output_type": "stream",
     "text": [
      "The r-value is:0.14465320905174836\n"
     ]
    },
    {
     "data": {
      "image/png": "[encoded data removed]",
      "text/plain": [
       "<Figure size 432x288 with 1 Axes>"
      ]
     },
     "metadata": {
      "needs_background": "light"
     },
     "output_type": "display_data"
    }
   ],
   "source": [
    "# Add the linear regression equation and line to plot\n",
    "x_values = clean_city_data['Lat'].loc[clean_city_data['Lat']<= 0,]\n",
    "\n",
    "y_values = clean_city_data['Humidity'].loc[clean_city_data['Lat']<= 0,]\n",
    "(slope, intercept, rvalue, pvalue, stderr) = linregress(x_values, y_values)\n",
    "print(f'The r-value is:{rvalue}')\n",
    "regress_values = x_values * slope + intercept\n",
    "line_eq = \"y = \" + str(round(slope,2)) + \"x + \" + str(round(intercept,2))\n",
    "plt.scatter(x_values,y_values)\n",
    "plt.plot(x_values,regress_values,\"r-\")\n",
    "plt.annotate(line_eq,fontsize=15,color=\"red\",xy=(-20,30))\n",
    "plt.xlabel('Latitude')\n",
    "plt.ylabel('Humidity')\n",
    "plt.savefig('../output_data/Fig8.png')\n",
    "plt.show()"
   ]
  },
  {
   "cell_type": "code",
   "execution_count": null,
   "metadata": {},
   "outputs": [],
   "source": []
  },
  {
   "cell_type": "markdown",
   "metadata": {},
   "source": [
    "####  Northern Hemisphere - Cloudiness (%) vs. Latitude Linear Regression"
   ]
  },
  {
   "cell_type": "code",
   "execution_count": 44,
   "metadata": {},
   "outputs": [
    {
     "name": "stdout",
     "output_type": "stream",
     "text": [
      "The r-value is:-0.04311839988255906\n"
     ]
    },
    {
     "data": {
      "image/png": "[encoded data removed]",
      "text/plain": [
       "<Figure size 432x288 with 1 Axes>"
      ]
     },
     "metadata": {
      "needs_background": "light"
     },
     "output_type": "display_data"
    }
   ],
   "source": [
    "# Add the linear regression equation and line to plot\n",
    "x_values = clean_city_data['Lat'].loc[clean_city_data['Lat']>= 0,]\n",
    "\n",
    "y_values = clean_city_data['Cloudiness'].loc[clean_city_data['Lat']>= 0,]\n",
    "(slope, intercept, rvalue, pvalue, stderr) = linregress(x_values, y_values)\n",
    "print(f'The r-value is:{rvalue}')\n",
    "regress_values = x_values * slope + intercept\n",
    "line_eq = \"y = \" + str(round(slope,2)) + \"x + \" + str(round(intercept,2))\n",
    "plt.scatter(x_values,y_values)\n",
    "plt.plot(x_values,regress_values,\"r-\")\n",
    "plt.annotate(line_eq,fontsize=15,color=\"red\",xy=(40,40))\n",
    "plt.xlabel('Latitude')\n",
    "plt.ylabel('Cloudiness')\n",
    "plt.savefig('../output_data/Fig9.png')\n",
    "plt.show()"
   ]
  },
  {
   "cell_type": "code",
   "execution_count": null,
   "metadata": {},
   "outputs": [],
   "source": []
  },
  {
   "cell_type": "markdown",
   "metadata": {},
   "source": [
    "####  Southern Hemisphere - Cloudiness (%) vs. Latitude Linear Regression"
   ]
  },
  {
   "cell_type": "code",
   "execution_count": 45,
   "metadata": {},
   "outputs": [
    {
     "name": "stdout",
     "output_type": "stream",
     "text": [
      "The r-value is:0.024912757037403286\n"
     ]
    },
    {
     "data": {
      "image/png": "[encoded data removed]",
      "text/plain": [
       "<Figure size 432x288 with 1 Axes>"
      ]
     },
     "metadata": {
      "needs_background": "light"
     },
     "output_type": "display_data"
    }
   ],
   "source": [
    "# Add the linear regression equation and line to plot\n",
    "x_values = clean_city_data['Lat'].loc[clean_city_data['Lat']<= 0,]\n",
    "\n",
    "y_values = clean_city_data['Cloudiness'].loc[clean_city_data['Lat']<= 0,]\n",
    "(slope, intercept, rvalue, pvalue, stderr) = linregress(x_values, y_values)\n",
    "print(f'The r-value is:{rvalue}')\n",
    "regress_values = x_values * slope + intercept\n",
    "line_eq = \"y = \" + str(round(slope,2)) + \"x + \" + str(round(intercept,2))\n",
    "plt.scatter(x_values,y_values)\n",
    "plt.plot(x_values,regress_values,\"r-\")\n",
    "plt.annotate(line_eq,fontsize=15,color=\"red\",xy=(-50,20))\n",
    "plt.xlabel('Latitude')\n",
    "plt.ylabel('Cloudiness(%)')\n",
    "plt.savefig('../output_data/Fig10.png')\n",
    "plt.show()"
   ]
  },
  {
   "cell_type": "code",
   "execution_count": null,
   "metadata": {},
   "outputs": [],
   "source": []
  },
  {
   "cell_type": "markdown",
   "metadata": {},
   "source": [
    "####  Northern Hemisphere - Wind Speed (mph) vs. Latitude Linear Regression"
   ]
  },
  {
   "cell_type": "code",
   "execution_count": 46,
   "metadata": {},
   "outputs": [
    {
     "name": "stdout",
     "output_type": "stream",
     "text": [
      "The r-value is:0.06120553808991807\n"
     ]
    },
    {
     "data": {
      "image/png": "[encoded data removed]",
      "text/plain": [
       "<Figure size 432x288 with 1 Axes>"
      ]
     },
     "metadata": {
      "needs_background": "light"
     },
     "output_type": "display_data"
    }
   ],
   "source": [
    "# Add the linear regression equation and line to plot\n",
    "x_values = clean_city_data['Lat'].loc[clean_city_data['Lat']>= 0,]\n",
    "\n",
    "y_values = clean_city_data['Wind Speed'].loc[clean_city_data['Lat']>= 0,]\n",
    "(slope, intercept, rvalue, pvalue, stderr) = linregress(x_values, y_values)\n",
    "print(f'The r-value is:{rvalue}')\n",
    "regress_values = x_values * slope + intercept\n",
    "line_eq = \"y = \" + str(round(slope,2)) + \"x + \" + str(round(intercept,2))\n",
    "plt.scatter(x_values,y_values)\n",
    "plt.plot(x_values,regress_values,\"r-\")\n",
    "plt.annotate(line_eq,fontsize=15,color=\"red\",xy=(50,30))\n",
    "plt.xlabel('Latitude')\n",
    "plt.ylabel('Wind Speed (mph)')\n",
    "plt.savefig('../output_data/Fig11.png')\n",
    "plt.show()"
   ]
  },
  {
   "cell_type": "code",
   "execution_count": null,
   "metadata": {},
   "outputs": [],
   "source": []
  },
  {
   "cell_type": "markdown",
   "metadata": {},
   "source": [
    "####  Southern Hemisphere - Wind Speed (mph) vs. Latitude Linear Regression"
   ]
  },
  {
   "cell_type": "code",
   "execution_count": 47,
   "metadata": {},
   "outputs": [
    {
     "name": "stdout",
     "output_type": "stream",
     "text": [
      "The r-value is:-0.17511714699726283\n"
     ]
    },
    {
     "data": {
      "image/png": "[encoded data removed]",
      "text/plain": [
       "<Figure size 432x288 with 1 Axes>"
      ]
     },
     "metadata": {
      "needs_background": "light"
     },
     "output_type": "display_data"
    }
   ],
   "source": [
    "# Add the linear regression equation and line to plot\n",
    "x_values = clean_city_data['Lat'].loc[clean_city_data['Lat']<= 0,]\n",
    "\n",
    "y_values = clean_city_data['Wind Speed'].loc[clean_city_data['Lat']<= 0,]\n",
    "(slope, intercept, rvalue, pvalue, stderr) = linregress(x_values, y_values)\n",
    "print(f'The r-value is:{rvalue}')\n",
    "regress_values = x_values * slope + intercept\n",
    "line_eq = \"y = \" + str(round(slope,2)) + \"x + \" + str(round(intercept,2))\n",
    "plt.scatter(x_values,y_values)\n",
    "plt.plot(x_values,regress_values,\"r-\")\n",
    "plt.annotate(line_eq,fontsize=15,color=\"red\",xy=(-40,30))\n",
    "plt.xlabel('Latitude')\n",
    "plt.ylabel('Wind Speed (mph)')\n",
    "plt.savefig('../output_data/Fig12.png')\n",
    "plt.show()"
   ]
  },
  {
   "cell_type": "markdown",
   "metadata": {},
   "source": [
    "#1 The graphs show a clear positive correlation in latitude and max temperature, closer to equator, hotter it gets.\n",
    "#2 The cloudiness has little to do with latitude, and no correlation found.\n",
    "#3 In high latitude place above 60, humidity significantly drops"
   ]
  },
  {
   "cell_type": "code",
   "execution_count": null,
   "metadata": {},
   "outputs": [],
   "source": []
  }
 ],
 "metadata": {
  "anaconda-cloud": {},
  "kernel_info": {
   "name": "python3"
  },
  "kernelspec": {
   "display_name": "Python 3 (ipykernel)",
   "language": "python",
   "name": "python3"
  },
  "language_info": {
   "codemirror_mode": {
    "name": "ipython",
    "version": 3
   },
   "file_extension": ".py",
   "mimetype": "text/x-python",
   "name": "python",
   "nbconvert_exporter": "python",
   "pygments_lexer": "ipython3",
   "version": "3.8.11"
  },
  "latex_envs": {
   "LaTeX_envs_menu_present": true,
   "autoclose": false,
   "autocomplete": true,
   "bibliofile": "biblio.bib",
   "cite_by": "apalike",
   "current_citInitial": 1,
   "eqLabelWithNumbers": true,
   "eqNumInitial": 1,
   "hotkeys": {
    "equation": "Ctrl-E",
    "itemize": "Ctrl-I"
   },
   "labels_anchors": false,
   "latex_user_defs": false,
   "report_style_numbering": false,
   "user_envs_cfg": false
  },
  "nteract": {
   "version": "0.12.3"
  }
 },
 "nbformat": 4,
 "nbformat_minor": 2
}
